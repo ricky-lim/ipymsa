{
 "cells": [
  {
   "cell_type": "code",
   "execution_count": 1,
   "metadata": {},
   "outputs": [],
   "source": [
    "import ipymsa"
   ]
  },
  {
   "cell_type": "code",
   "execution_count": 2,
   "metadata": {},
   "outputs": [],
   "source": [
    "m = ipymsa.IpyMsa()"
   ]
  },
  {
   "cell_type": "code",
   "execution_count": 3,
   "metadata": {},
   "outputs": [
    {
     "data": {
      "application/vnd.jupyter.widget-view+json": {
       "model_id": "27f04b2c9d88458a9aca5bacfe227b3f",
       "version_major": 2,
       "version_minor": 0
      },
      "text/plain": [
       "IpyMsa()"
      ]
     },
     "metadata": {},
     "output_type": "display_data"
    }
   ],
   "source": [
    "m"
   ]
  },
  {
   "cell_type": "code",
   "execution_count": 4,
   "metadata": {},
   "outputs": [],
   "source": [
    "m.value = '>za_baobab_v1_2019\\nAGGGGGAGAGAGGATAGATGATAGGAGAGGAGAGGAGAAAAAAAAAAGATGATGATGTGATAGTAGGATGGAGAGTAGTAGATATGATAG\\n>fony_baobab_v2_2019\\nAGGGGGAGAGAGGATAGATGAT-------------------------GATGATGATGTGATAGTAGGATGGAGAGTAGTAGATATGATAG'"
   ]
  },
  {
   "cell_type": "code",
   "execution_count": null,
   "metadata": {},
   "outputs": [],
   "source": []
  }
 ],
 "metadata": {
  "kernelspec": {
   "display_name": "Python3 (ipymsa)",
   "language": "python",
   "name": "ipymsa"
  },
  "language_info": {
   "codemirror_mode": {
    "name": "ipython",
    "version": 3
   },
   "file_extension": ".py",
   "mimetype": "text/x-python",
   "name": "python",
   "nbconvert_exporter": "python",
   "pygments_lexer": "ipython3",
   "version": "3.7.3"
  }
 },
 "nbformat": 4,
 "nbformat_minor": 2
}
